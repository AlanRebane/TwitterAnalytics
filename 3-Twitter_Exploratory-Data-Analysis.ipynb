{
 "cells": [
  {
   "cell_type": "markdown",
   "metadata": {},
   "source": [
    "# Exploratory Data Analysis"
   ]
  },
  {
   "cell_type": "markdown",
   "metadata": {},
   "source": [
    "In this notebook, I will provide an overview of the top words, word clouds and some overview of the users.\n",
    "\n",
    "Our research will attempt to tackle these metrics and questions:\n",
    "1. Tweet metrics:\n",
    "    1. Tweet statistics (likes, retweets) (tableau)\n",
    "    2. What are the most common words in the tweets\n",
    "    3. How has the number of tweets changed over time (tableau)\n",
    "\n",
    "2. User metrics:\n",
    "    1. Which users are the most liked users\n",
    "    2. Which users are the most active users by number of tweets\n",
    "    3. How many users in total tweet about the topic and how has it changed (tableau)\n",
    "    \n",
    "3. Content analysis:\n",
    "    1. Sentiment analysis over time (tableau)\n",
    "    2. Topic modelling"
   ]
  },
  {
   "cell_type": "code",
   "execution_count": null,
   "metadata": {},
   "outputs": [],
   "source": [
    "import pandas as pd\n",
    "import numpy as np\n",
    "import pickle\n",
    "import feather\n",
    "import matplotlib.pyplot as plt\n",
    "import os\n",
    "\n",
    "dataset = input()\n",
    "path = os.getcwd() +'/Datasets/'+dataset+'/'"
   ]
  },
  {
   "cell_type": "markdown",
   "metadata": {},
   "source": [
    "## 1) Most common words"
   ]
  },
  {
   "cell_type": "code",
   "execution_count": null,
   "metadata": {},
   "outputs": [],
   "source": [
    "dtm = pd.read_pickle(path+dataset+'_dtm.pkl')"
   ]
  },
  {
   "cell_type": "code",
   "execution_count": null,
   "metadata": {},
   "outputs": [],
   "source": [
    "dtm.sort_values(by='2020-12-31', ascending=False).head(10)"
   ]
  },
  {
   "cell_type": "markdown",
   "metadata": {},
   "source": [
    "## 2) Generate WordClouds"
   ]
  },
  {
   "cell_type": "code",
   "execution_count": null,
   "metadata": {
    "hide_input": false
   },
   "outputs": [],
   "source": [
    "df_corpus = pd.read_pickle(path+dataset+'_corpus.pkl').to_frame().transpose()"
   ]
  },
  {
   "cell_type": "code",
   "execution_count": null,
   "metadata": {},
   "outputs": [],
   "source": [
    "from wordcloud import WordCloud\n",
    "\n",
    "wc = WordCloud(width=800, height = 800,\n",
    "               collocations=False,max_font_size=150, random_state=42)"
   ]
  },
  {
   "cell_type": "code",
   "execution_count": null,
   "metadata": {},
   "outputs": [],
   "source": [
    "plt.rcParams['figure.figsize'] = [16,6]"
   ]
  },
  {
   "cell_type": "code",
   "execution_count": null,
   "metadata": {
    "scrolled": false
   },
   "outputs": [],
   "source": [
    "for index, date in enumerate(df_corpus.columns):\n",
    "    # Create a string containing all the words in a year\n",
    "    allwords = ' '.join( [word for word in df_corpus[date]] )\n",
    "    # Generate a wordcloud\n",
    "    cloud = wc.generate(allwords)\n",
    "    \n",
    "    # Create subplots\n",
    "    plt.figure( figsize=(20,10) )\n",
    "    plt.imshow(cloud, interpolation='bilinear')\n",
    "    plt.axis('off')\n",
    "    plt.title((str(date)[:4]))\n",
    "    plt.tight_layout(pad=0)\n",
    "    plt.savefig(path+dataset+(str(date)[:4])+'_wordcloud.pdf')\n",
    "    plt.show()"
   ]
  }
 ],
 "metadata": {
  "hide_input": false,
  "kernelspec": {
   "display_name": "thesis",
   "language": "python",
   "name": "thesis"
  },
  "language_info": {
   "codemirror_mode": {
    "name": "ipython",
    "version": 3
   },
   "file_extension": ".py",
   "mimetype": "text/x-python",
   "name": "python",
   "nbconvert_exporter": "python",
   "pygments_lexer": "ipython3",
   "version": "3.8.5"
  }
 },
 "nbformat": 4,
 "nbformat_minor": 4
}
