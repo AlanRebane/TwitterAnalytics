{
 "cells": [
  {
   "cell_type": "code",
   "execution_count": 1,
   "metadata": {},
   "outputs": [
    {
     "name": "stdout",
     "output_type": "stream",
     "text": [
      "banking\n"
     ]
    }
   ],
   "source": [
    "import pandas as pd\n",
    "import numpy as np\n",
    "import feather\n",
    "import os\n",
    "import re\n",
    "import networkx as nx\n",
    "import numpy as np\n",
    "import matplotlib.pyplot as plt\n",
    "\n",
    "dataset = dataset = input()\n",
    "path = os.getcwd() +'/Datasets/'+dataset+'/'"
   ]
  },
  {
   "cell_type": "code",
   "execution_count": 2,
   "metadata": {},
   "outputs": [],
   "source": [
    "df = pd.read_feather(path+dataset+'_sentiment.ftr')"
   ]
  },
  {
   "cell_type": "code",
   "execution_count": 3,
   "metadata": {},
   "outputs": [
    {
     "data": {
      "text/plain": [
       "(2286093, 16)"
      ]
     },
     "execution_count": 3,
     "metadata": {},
     "output_type": "execute_result"
    }
   ],
   "source": [
    "df.shape"
   ]
  },
  {
   "cell_type": "markdown",
   "metadata": {},
   "source": [
    "## 1) Create a users dataframe"
   ]
  },
  {
   "cell_type": "code",
   "execution_count": 4,
   "metadata": {},
   "outputs": [],
   "source": [
    "# For the purposes of summing up the tweets:\n",
    "df['sum_tweets'] = 1"
   ]
  },
  {
   "cell_type": "code",
   "execution_count": 5,
   "metadata": {},
   "outputs": [],
   "source": [
    "# Group by username:\n",
    "df_users = df.groupby(['username',\n",
    "                       'description',\n",
    "                       'name',\n",
    "                       'user_created_at']).agg({'public_metrics.retweet_count':'sum',\n",
    "                                                               'public_metrics.like_count':'sum',\n",
    "                                                               'verified':'mean',\n",
    "                                                               'sum_pubmetrics':'sum',\n",
    "                                                               'public_metrics.followers_count':'mean',\n",
    "                                                               'public_metrics.following_count':'mean',\n",
    "                                                               'public_metrics.tweet_count':'mean',\n",
    "                                                               'sentiment':'sum',\n",
    "                                                               'fintech':'sum',\n",
    "                                                               'sum_tweets':'sum'}).reset_index()\n",
    "\n",
    "# Some usernames have different descriptions due to data being gathered at different\n",
    "#points in time and the users have changed their description in-between\n",
    "# Drop the duplicates of some usernames:\n",
    "df_users = df_users.drop_duplicates(subset='username',keep='first')\n",
    "\n",
    "# Convert some columns to integer data type and verified to boolean\n",
    "df_users['public_metrics.followers_count'] = df_users['public_metrics.followers_count'].astype('int32')\n",
    "df_users['public_metrics.following_count'] = df_users['public_metrics.following_count'].astype('int32')\n",
    "df_users['public_metrics.tweet_count'] = df_users['public_metrics.tweet_count'].astype('int32')\n",
    "df_users['verified'] = df_users['verified'].astype('bool')\n",
    "\n",
    "# Calculate the avg sentiment and avg impressions (likes+retweets) of the user's tweets:\n",
    "df_users['avg_sentiment'] = df_users['sentiment']/df_users['sum_tweets']\n",
    "df_users['avg_pubmetrics'] = df_users['sum_pubmetrics']/df_users['sum_tweets']\n",
    "\n",
    "# Calculate the percentage of fintech tweets:\n",
    "df_users['pct_fintech'] = df_users['fintech']/df_users['sum_tweets']"
   ]
  },
  {
   "cell_type": "code",
   "execution_count": null,
   "metadata": {},
   "outputs": [],
   "source": [
    "# This code is for datasets that are not cleaned or manipulated before\n",
    "\n",
    "# Group by username:\n",
    "df_users = df.groupby(['username',\n",
    "                       'description',\n",
    "                       'name',\n",
    "                       'user_created_at']).agg({'public_metrics.retweet_count':'sum',\n",
    "                                                               'public_metrics.like_count':'sum',\n",
    "                                                               'verified':'mean',\n",
    "                                                               'public_metrics.followers_count':'mean',\n",
    "                                                               'public_metrics.following_count':'mean',\n",
    "                                                               'public_metrics.tweet_count':'mean',\n",
    "                                                               'sum_tweets':'sum'}).reset_index()\n",
    "\n",
    "# Some usernames have different descriptions due to data being gathered at different\n",
    "#points in time and the users have changed their description in-between\n",
    "# Drop the duplicates of some usernames:\n",
    "df_users = df_users.drop_duplicates(subset='username',keep='first')\n",
    "\n",
    "# Convert some columns to integer data type and verified to boolean\n",
    "df_users['public_metrics.followers_count'] = df_users['public_metrics.followers_count'].astype('int32')\n",
    "df_users['public_metrics.following_count'] = df_users['public_metrics.following_count'].astype('int32')\n",
    "df_users['public_metrics.tweet_count'] = df_users['public_metrics.tweet_count'].astype('int32')\n",
    "df_users['verified'] = df_users['verified'].astype('bool')"
   ]
  },
  {
   "cell_type": "code",
   "execution_count": 6,
   "metadata": {},
   "outputs": [
    {
     "data": {
      "text/plain": [
       "(192447, 17)"
      ]
     },
     "execution_count": 6,
     "metadata": {},
     "output_type": "execute_result"
    }
   ],
   "source": [
    "df_users.shape"
   ]
  },
  {
   "cell_type": "code",
   "execution_count": 7,
   "metadata": {},
   "outputs": [],
   "source": [
    "df_users = df_users.reset_index(drop=True)"
   ]
  },
  {
   "cell_type": "code",
   "execution_count": 8,
   "metadata": {},
   "outputs": [
    {
     "name": "stdout",
     "output_type": "stream",
     "text": [
      "Number of users tweeting about fintech and banking: 31027\n",
      "Number of users tweeting only about banking: 161420\n"
     ]
    }
   ],
   "source": [
    "print('Number of users tweeting about fintech and banking:',df_users[df_users.fintech>0].shape[0])\n",
    "print('Number of users tweeting only about banking:',df_users[df_users.fintech==0].shape[0])"
   ]
  },
  {
   "cell_type": "code",
   "execution_count": 9,
   "metadata": {},
   "outputs": [],
   "source": [
    "df_users.to_csv(path+dataset+'_users.csv')\n",
    "df_users.to_feather(path+dataset+'_users.ftr')"
   ]
  },
  {
   "cell_type": "code",
   "execution_count": null,
   "metadata": {},
   "outputs": [],
   "source": [
    "#df_users.to_csv(path+dataset+'_users18.csv')\n",
    "#df_users.to_feather(path+dataset+'_users18.ftr')"
   ]
  },
  {
   "cell_type": "markdown",
   "metadata": {},
   "source": [
    "## 2) Network analysis"
   ]
  },
  {
   "cell_type": "markdown",
   "metadata": {},
   "source": [
    "### 2.1) Network Analysis Example"
   ]
  },
  {
   "cell_type": "code",
   "execution_count": 10,
   "metadata": {
    "hide_input": false
   },
   "outputs": [
    {
     "data": {
      "text/html": [
       "<div>\n",
       "<style scoped>\n",
       "    .dataframe tbody tr th:only-of-type {\n",
       "        vertical-align: middle;\n",
       "    }\n",
       "\n",
       "    .dataframe tbody tr th {\n",
       "        vertical-align: top;\n",
       "    }\n",
       "\n",
       "    .dataframe thead th {\n",
       "        text-align: right;\n",
       "    }\n",
       "</style>\n",
       "<table border=\"1\" class=\"dataframe\">\n",
       "  <thead>\n",
       "    <tr style=\"text-align: right;\">\n",
       "      <th></th>\n",
       "      <th>username</th>\n",
       "      <th>mention</th>\n",
       "    </tr>\n",
       "  </thead>\n",
       "  <tbody>\n",
       "    <tr>\n",
       "      <th>0</th>\n",
       "      <td>neirajones</td>\n",
       "      <td>zelfco</td>\n",
       "    </tr>\n",
       "    <tr>\n",
       "      <th>1</th>\n",
       "      <td>TweakMind</td>\n",
       "      <td>convey</td>\n",
       "    </tr>\n",
       "    <tr>\n",
       "      <th>2</th>\n",
       "      <td>zelfco</td>\n",
       "      <td>TweakMind</td>\n",
       "    </tr>\n",
       "    <tr>\n",
       "      <th>3</th>\n",
       "      <td>TweakMind</td>\n",
       "      <td>zelfco</td>\n",
       "    </tr>\n",
       "    <tr>\n",
       "      <th>4</th>\n",
       "      <td>FinMe</td>\n",
       "      <td></td>\n",
       "    </tr>\n",
       "    <tr>\n",
       "      <th>5</th>\n",
       "      <td>BankMe</td>\n",
       "      <td></td>\n",
       "    </tr>\n",
       "    <tr>\n",
       "      <th>6</th>\n",
       "      <td>Zoomy</td>\n",
       "      <td>BlockCH</td>\n",
       "    </tr>\n",
       "    <tr>\n",
       "      <th>7</th>\n",
       "      <td>Zoomy</td>\n",
       "      <td>BlockCH</td>\n",
       "    </tr>\n",
       "  </tbody>\n",
       "</table>\n",
       "</div>"
      ],
      "text/plain": [
       "     username    mention\n",
       "0  neirajones     zelfco\n",
       "1   TweakMind     convey\n",
       "2      zelfco  TweakMind\n",
       "3   TweakMind     zelfco\n",
       "4       FinMe           \n",
       "5      BankMe           \n",
       "6       Zoomy    BlockCH\n",
       "7       Zoomy    BlockCH"
      ]
     },
     "execution_count": 10,
     "metadata": {},
     "output_type": "execute_result"
    }
   ],
   "source": [
    "df_test = pd.DataFrame(np.array([[\"neirajones\", \"zelfco\"],\n",
    "                                [\"TweakMind\", \"convey\"],\n",
    "                                [\"zelfco\", \"TweakMind\"],\n",
    "                                [\"TweakMind\", \"zelfco\"],\n",
    "                                [\"FinMe\", ''],\n",
    "                                ['BankMe', ''],\n",
    "                                ['Zoomy', 'BlockCH'],\n",
    "                                ['Zoomy', 'BlockCH']]),\n",
    "                      columns=['username', 'mention'])\n",
    "df_test"
   ]
  },
  {
   "cell_type": "code",
   "execution_count": 11,
   "metadata": {
    "hide_input": false
   },
   "outputs": [
    {
     "data": {
      "text/plain": [
       "'Name: \\nType: DiGraph\\nNumber of nodes: 8\\nNumber of edges: 5\\nAverage in degree:   0.6250\\nAverage out degree:   0.6250'"
      ]
     },
     "execution_count": 11,
     "metadata": {},
     "output_type": "execute_result"
    }
   ],
   "source": [
    "G = nx.from_pandas_edgelist(df_test, \n",
    "                            source='username', \n",
    "                            target='mention',\n",
    "                            create_using=nx.DiGraph())\n",
    "\n",
    "G.remove_node('')\n",
    "nx.info(G)"
   ]
  },
  {
   "cell_type": "markdown",
   "metadata": {},
   "source": [
    "The number of nodes represents the number of distinct users. If a user such as *Zoomy* for example mentions *BlockCH* 2 times, then it will still count as 2 distinct users or nodes (*Zoomy* and *BlockCH*). \n",
    "\n",
    "The number of edges essentially represents the number of connections between users. The connection can be both ways, such as between *zelfco* and *TweakMind* or it can be one way cush as between *neirajones* and *zelfco*."
   ]
  },
  {
   "cell_type": "code",
   "execution_count": 12,
   "metadata": {
    "hide_input": false
   },
   "outputs": [
    {
     "data": {
      "image/png": "[encoded data removed]",
      "text/plain": [
       "<Figure size 432x288 with 1 Axes>"
      ]
     },
     "metadata": {},
     "output_type": "display_data"
    }
   ],
   "source": [
    "nx.draw(G, with_labels=True)\n",
    "plt.show()"
   ]
  },
  {
   "cell_type": "markdown",
   "metadata": {},
   "source": [
    "### 2.2) Data preparation for Network Analysis"
   ]
  },
  {
   "cell_type": "code",
   "execution_count": 13,
   "metadata": {},
   "outputs": [],
   "source": [
    "df = pd.read_feather(path+dataset+'.ftr')\n",
    "df_old = pd.read_feather(path+dataset+'15-18.ftr')\n",
    "df = df.append(df_old, ignore_index = True)\n",
    "\n",
    "\n",
    "#if dataset == 'banking':\n",
    "#    df_old = pd.read_feather(path+dataset+'15-18.ftr')\n",
    "#    df = df.append(df_old, ignore_index = True)\n",
    "#    df_old = pd.read_feather(path+dataset+'13-14.ftr')\n",
    "#    df = df.append(df_old, ignore_index = True)\n",
    "#    df_old = pd.read_feather(path+dataset+'09-12.ftr')\n",
    "#    df = df.append(df_old, ignore_index = True)"
   ]
  },
  {
   "cell_type": "code",
   "execution_count": 14,
   "metadata": {},
   "outputs": [
    {
     "name": "stdout",
     "output_type": "stream",
     "text": [
      "Dataframe shape: (989984, 14)\n",
      "Text dataframe shape: (989984, 1)\n"
     ]
    }
   ],
   "source": [
    "df = df[df['tweet_created_at']>=np.datetime64('2018-01-01')]\n",
    "\n",
    "# Set username as index so it is easier to play around with it\n",
    "df = df.set_index('username')\n",
    "# Select only the column that contains the tweet\n",
    "df_text = df.iloc[:,[1]]\n",
    "print('Dataframe shape:', df.shape)\n",
    "print('Text dataframe shape:', df_text.shape)"
   ]
  },
  {
   "cell_type": "code",
   "execution_count": 15,
   "metadata": {},
   "outputs": [],
   "source": [
    "# Regular expression for saving everything after the @ symbol\n",
    "mentions = re.compile(r'@[A-Za-z0-9]+')\n",
    "\n",
    "def extract_mentions(text):\n",
    "    \"\"\"\n",
    "    This function only saves the mentioned username\n",
    "    and deletes everything else\n",
    "    \"\"\"\n",
    "    text = ', '.join(mentions.findall(text))\n",
    "    text = re.sub(r'@','',text)\n",
    "    return text"
   ]
  },
  {
   "cell_type": "code",
   "execution_count": 16,
   "metadata": {},
   "outputs": [],
   "source": [
    "df_text = df.text.apply(extract_mentions)\n",
    "df_text = df_text.reset_index()"
   ]
  },
  {
   "cell_type": "code",
   "execution_count": 17,
   "metadata": {},
   "outputs": [],
   "source": [
    "# Exclude the users with less than 10 #banking tweets\n",
    "df_text['sum_of_tweets'] = 1\n",
    "df_text.groupby(['username']).sum()>9\n",
    "\n",
    "df_above10 = df_text.groupby(['username']).sum()\n",
    "df_above10 = df_above10.reset_index()\n",
    "\n",
    "df_text = df_text.merge(df_above10, how='outer', left_on='username', right_on='username')\n",
    "df_text = df_text[df_text['sum_of_tweets_y']>9]"
   ]
  },
  {
   "cell_type": "code",
   "execution_count": 18,
   "metadata": {},
   "outputs": [],
   "source": [
    "# This block deals with tweets that mention multiple users\n",
    "# It is a very inefficient way, takes about a minute to run\n",
    "uzrs = df_text.set_index('username')\n",
    "\n",
    "# 1) Extract all the mentions and create a column for 1 mention each\n",
    "for i in range(30):\n",
    "    uzrs[f'mention{i}'] = uzrs['text'].str.split(', ').str[i]\n",
    "\n",
    "# 2) Create a new dataframe\n",
    "df_uzrs = uzrs['mention0'].copy()\n",
    "\n",
    "# 3) Append all the columns with only 1 mention under the new dataframe\n",
    "for i in range(1,30):\n",
    "    df_uzrs = df_uzrs.append(uzrs[f'mention{i}'].dropna())\n",
    "    \n",
    "del uzrs"
   ]
  },
  {
   "cell_type": "code",
   "execution_count": 19,
   "metadata": {},
   "outputs": [],
   "source": [
    "# Do some cleaning up:\n",
    "df_uzrs = df_uzrs.to_frame()\n",
    "df_uzrs = df_uzrs.reset_index()\n",
    "df_uzrs = df_uzrs.rename(columns={0:'mention'})"
   ]
  },
  {
   "cell_type": "code",
   "execution_count": 20,
   "metadata": {
    "scrolled": false
   },
   "outputs": [],
   "source": [
    "df_uzrs.to_feather(path+dataset+'_networkX18-21.ftr')"
   ]
  },
  {
   "cell_type": "markdown",
   "metadata": {},
   "source": [
    "### 2.3) Performing Network Analysis on the whole dataset"
   ]
  },
  {
   "cell_type": "code",
   "execution_count": 21,
   "metadata": {},
   "outputs": [],
   "source": [
    "df_uzrs = pd.read_feather(path+dataset+'_networkX18-21.ftr')"
   ]
  },
  {
   "cell_type": "code",
   "execution_count": 22,
   "metadata": {},
   "outputs": [],
   "source": [
    "G = nx.Graph()"
   ]
  },
  {
   "cell_type": "code",
   "execution_count": 23,
   "metadata": {},
   "outputs": [
    {
     "data": {
      "text/plain": [
       "'Name: \\nType: DiGraph\\nNumber of nodes: 83283\\nNumber of edges: 203667\\nAverage in degree:   2.4455\\nAverage out degree:   2.4455'"
      ]
     },
     "execution_count": 23,
     "metadata": {},
     "output_type": "execute_result"
    }
   ],
   "source": [
    "G = nx.from_pandas_edgelist(df_uzrs, \n",
    "                            source='username', \n",
    "                            target='mention',\n",
    "                            edge_key='mention',\n",
    "                            create_using=nx.DiGraph())\n",
    "\n",
    "G.remove_node('')\n",
    "nx.info(G)"
   ]
  },
  {
   "cell_type": "code",
   "execution_count": 24,
   "metadata": {},
   "outputs": [],
   "source": [
    "from networkx import degree_centrality, in_degree_centrality\n",
    "from networkx import out_degree_centrality\n",
    "\n",
    "def centrality_measures(H, top):\n",
    "    \"\"\"\n",
    "    This function prints out the centrality measures for\n",
    "    how the Twitter users are connected to each other.\n",
    "    H: a directed graph object\n",
    "    top: how many users to print out\n",
    "    \"\"\"\n",
    "    \n",
    "    print(f'Top {top} in-degree centrality:')\n",
    "    dic = in_degree_centrality(H)\n",
    "    for k,v in sorted(dic.items(), \n",
    "                      key=lambda x: x[1], \n",
    "                      reverse = True)[:top]:\n",
    "        print(k,'\\t',round(v,4))\n",
    "    print('')\n",
    "    \n",
    "    print(f'Top {top} out-degree centrality:')\n",
    "    dic = out_degree_centrality(H)\n",
    "    for k,v in sorted(dic.items(), \n",
    "                      key=lambda x: x[1], \n",
    "                      reverse = True)[:top]:\n",
    "        print(k,'\\t',round(v,4))\n",
    "    print('')\n",
    "    \n",
    "    print(f'Top {top} degree centrality:')\n",
    "    dic = degree_centrality(H)\n",
    "    for k,v in sorted(dic.items(), \n",
    "                      key=lambda x: x[1], \n",
    "                      reverse = True)[:top]:\n",
    "        print(k,'\\t',round(v,4))"
   ]
  },
  {
   "cell_type": "code",
   "execution_count": 25,
   "metadata": {},
   "outputs": [
    {
     "name": "stdout",
     "output_type": "stream",
     "text": [
      "Top 11 in-degree centrality:\n",
      "FinancialBrand \t 0.0106\n",
      "JimMarous \t 0.0099\n",
      "Forbes \t 0.0072\n",
      "Finextra \t 0.0063\n",
      "psb \t 0.006\n",
      "SpirosMargaris \t 0.0058\n",
      "MikeQuindazzi \t 0.0053\n",
      "BrettKing \t 0.0052\n",
      "Chris \t 0.0051\n",
      "jblefevre60 \t 0.0049\n",
      "HSBC \t 0.0049\n",
      "\n",
      "Top 11 out-degree centrality:\n",
      "suchetkaushik \t 0.0348\n",
      "RAlexJimenez \t 0.0315\n",
      "GewelEsq \t 0.0285\n",
      "daviddoughty \t 0.0239\n",
      "philballen \t 0.0233\n",
      "fintechinshorts \t 0.0233\n",
      "carolrealini \t 0.0217\n",
      "NFCData_News \t 0.0208\n",
      "sonalbisht \t 0.0183\n",
      "srazek \t 0.0183\n",
      "BBanksAsia \t 0.0177\n",
      "\n",
      "Top 11 degree centrality:\n",
      "suchetkaushik \t 0.0349\n",
      "RAlexJimenez \t 0.0341\n",
      "GewelEsq \t 0.0285\n",
      "daviddoughty \t 0.0246\n",
      "fintechinshorts \t 0.0234\n",
      "philballen \t 0.0234\n",
      "JimMarous \t 0.0232\n",
      "carolrealini \t 0.0217\n",
      "SpirosMargaris \t 0.0215\n",
      "NFCData_News \t 0.0208\n",
      "stratorob \t 0.0184\n"
     ]
    }
   ],
   "source": [
    "centrality_measures(G, 11)"
   ]
  },
  {
   "cell_type": "markdown",
   "metadata": {},
   "source": [
    "## 3) Add all mentions to the main dataframe"
   ]
  },
  {
   "cell_type": "code",
   "execution_count": 26,
   "metadata": {},
   "outputs": [],
   "source": [
    "df_uzrs['mentioned'] = 1\n",
    "df_uzrs = df_uzrs.groupby(['mention']).sum().reset_index()"
   ]
  },
  {
   "cell_type": "code",
   "execution_count": 27,
   "metadata": {},
   "outputs": [],
   "source": [
    "df_users = pd.merge(df_users,df_uzrs,how='left',left_on='username',right_on='mention')\n",
    "del df_users['mention']\n",
    "df_users['mentioned'] = df_users['mentioned'].fillna(0)"
   ]
  },
  {
   "cell_type": "code",
   "execution_count": 28,
   "metadata": {},
   "outputs": [],
   "source": [
    "df_users.to_csv(path+dataset+'_users.csv')\n",
    "df_users.to_feather(path+dataset+'_users.ftr')"
   ]
  }
 ],
 "metadata": {
  "hide_input": false,
  "kernelspec": {
   "display_name": "thesis",
   "language": "python",
   "name": "thesis"
  },
  "language_info": {
   "codemirror_mode": {
    "name": "ipython",
    "version": 3
   },
   "file_extension": ".py",
   "mimetype": "text/x-python",
   "name": "python",
   "nbconvert_exporter": "python",
   "pygments_lexer": "ipython3",
   "version": "3.8.5"
  }
 },
 "nbformat": 4,
 "nbformat_minor": 4
}
