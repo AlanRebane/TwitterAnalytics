{
 "cells": [
  {
   "cell_type": "code",
   "execution_count": 1,
   "metadata": {
    "scrolled": true
   },
   "outputs": [
    {
     "name": "stdout",
     "output_type": "stream",
     "text": [
      "banks\n"
     ]
    }
   ],
   "source": [
    "import pandas as pd\n",
    "import re\n",
    "import numpy as np\n",
    "import feather\n",
    "import string\n",
    "import os\n",
    "import seaborn as sns\n",
    "from vaderSentiment.vaderSentiment import SentimentIntensityAnalyzer\n",
    "import matplotlib.pyplot as plt\n",
    "plt.style.use(['ggplot'])\n",
    "\n",
    "dataset = input()\n",
    "path = os.getcwd() + '/Datasets/'+dataset+'/'"
   ]
  },
  {
   "cell_type": "code",
   "execution_count": 2,
   "metadata": {},
   "outputs": [],
   "source": [
    "df = pd.read_feather(path+dataset+'_clean.ftr')"
   ]
  },
  {
   "cell_type": "markdown",
   "metadata": {},
   "source": [
    "# Buliding GEE Models\n",
    "* Load up the statsmodels package\n",
    "* Create the relevant dataframe"
   ]
  },
  {
   "cell_type": "code",
   "execution_count": 3,
   "metadata": {},
   "outputs": [],
   "source": [
    "import statsmodels.api as sm\n",
    "from statsmodels.genmod.cov_struct import Exchangeable, Independence, Autoregressive\n",
    "from statsmodels.genmod.families import Poisson, Gaussian, NegativeBinomial"
   ]
  },
  {
   "cell_type": "code",
   "execution_count": 4,
   "metadata": {},
   "outputs": [],
   "source": [
    "# Create a tweet length column, this becomes important in Hypohtesis 2 robustness check, when controlling for it\n",
    "df['tweet_length'] = df.text.str.len()\n",
    "\n",
    "# Select only relevant columns and from year 2015, when fintech became popular\n",
    "df_train = df.loc[:,['tweet_created_at','username', 'public_metrics.retweet_count','public_metrics.reply_count',\n",
    "                     'public_metrics.like_count','public_metrics.quote_count','fintech','sentiment','tweet_length']]\n",
    "df_train.columns = ['tweet_date','username','retweets','replies','likes','quotes','fintech','sentiment','tweet_length']\n",
    "\n",
    "df_train = df_train[df_train.tweet_date>=np.datetime64('2015-01-01')]"
   ]
  },
  {
   "cell_type": "code",
   "execution_count": 5,
   "metadata": {
    "hide_input": false
   },
   "outputs": [],
   "source": [
    "# Distribution of the outcome variable\n",
    "famg = Gaussian()\n",
    "\n",
    "# Covariance structures\n",
    "ind = Independence()\n",
    "exch = Exchangeable()"
   ]
  },
  {
   "cell_type": "markdown",
   "metadata": {},
   "source": [
    "## 1) H1: Comparing to other banking related tweets, fintech tweets are higher in positive sentiment.\n",
    "\n",
    "Here is the code to get the results for the first model (Table 5 in the thesis)"
   ]
  },
  {
   "cell_type": "code",
   "execution_count": 6,
   "metadata": {},
   "outputs": [],
   "source": [
    "model1 = sm.GEE.from_formula('sentiment ~ replies + likes + retweets + quotes + fintech',\n",
    "                            groups='username', family=famg, cov_struct=exch, data=df_train)"
   ]
  },
  {
   "cell_type": "code",
   "execution_count": 7,
   "metadata": {},
   "outputs": [],
   "source": [
    "result1 = model1.fit()"
   ]
  },
  {
   "cell_type": "code",
   "execution_count": 8,
   "metadata": {},
   "outputs": [
    {
     "data": {
      "text/html": [
       "<table class=\"simpletable\">\n",
       "<caption>GEE Regression Results</caption>\n",
       "<tr>\n",
       "  <th>Dep. Variable:</th>              <td>sentiment</td>      <th>  No. Observations:  </th>  <td>2837443</td>\n",
       "</tr>\n",
       "<tr>\n",
       "  <th>Model:</th>                         <td>GEE</td>         <th>  No. clusters:      </th>  <td>253259</td> \n",
       "</tr>\n",
       "<tr>\n",
       "  <th>Method:</th>                    <td>Generalized</td>     <th>  Min. cluster size: </th>     <td>1</td>   \n",
       "</tr>\n",
       "<tr>\n",
       "  <th></th>                      <td>Estimating Equations</td> <th>  Max. cluster size: </th>   <td>54499</td> \n",
       "</tr>\n",
       "<tr>\n",
       "  <th>Family:</th>                     <td>Gaussian</td>       <th>  Mean cluster size: </th>   <td>11.2</td>  \n",
       "</tr>\n",
       "<tr>\n",
       "  <th>Dependence structure:</th>     <td>Exchangeable</td>     <th>  Num. iterations:   </th>     <td>9</td>   \n",
       "</tr>\n",
       "<tr>\n",
       "  <th>Date:</th>                   <td>Sun, 16 May 2021</td>   <th>  Scale:             </th>   <td>0.141</td> \n",
       "</tr>\n",
       "<tr>\n",
       "  <th>Covariance type: </th>            <td>robust</td>        <th>  Time:              </th> <td>14:28:23</td>\n",
       "</tr>\n",
       "</table>\n",
       "<table class=\"simpletable\">\n",
       "<tr>\n",
       "         <td></td>            <th>coef</th>     <th>std err</th>      <th>z</th>      <th>P>|z|</th>  <th>[0.025</th>    <th>0.975]</th>  \n",
       "</tr>\n",
       "<tr>\n",
       "  <th>Intercept</th>       <td>    0.1436</td> <td>    0.001</td> <td>  193.663</td> <td> 0.000</td> <td>    0.142</td> <td>    0.145</td>\n",
       "</tr>\n",
       "<tr>\n",
       "  <th>fintech[T.True]</th> <td>    0.0367</td> <td>    0.003</td> <td>   11.684</td> <td> 0.000</td> <td>    0.031</td> <td>    0.043</td>\n",
       "</tr>\n",
       "<tr>\n",
       "  <th>replies</th>         <td>   -0.0011</td> <td>    0.001</td> <td>   -2.117</td> <td> 0.034</td> <td>   -0.002</td> <td>-8.14e-05</td>\n",
       "</tr>\n",
       "<tr>\n",
       "  <th>likes</th>           <td>    0.0002</td> <td> 5.17e-05</td> <td>    3.474</td> <td> 0.001</td> <td> 7.83e-05</td> <td>    0.000</td>\n",
       "</tr>\n",
       "<tr>\n",
       "  <th>retweets</th>        <td>-8.129e-05</td> <td> 2.86e-05</td> <td>   -2.838</td> <td> 0.005</td> <td>   -0.000</td> <td>-2.52e-05</td>\n",
       "</tr>\n",
       "<tr>\n",
       "  <th>quotes</th>          <td>    0.0009</td> <td>    0.001</td> <td>    1.667</td> <td> 0.096</td> <td>   -0.000</td> <td>    0.002</td>\n",
       "</tr>\n",
       "</table>\n",
       "<table class=\"simpletable\">\n",
       "<tr>\n",
       "  <th>Skew:</th>          <td>     -0.1406</td> <th>  Kurtosis:          </th> <td>     -0.1424</td>\n",
       "</tr>\n",
       "<tr>\n",
       "  <th>Centered skew:</th> <td>     -0.1030</td> <th>  Centered kurtosis: </th> <td>      0.5520</td>\n",
       "</tr>\n",
       "</table>"
      ],
      "text/plain": [
       "<class 'statsmodels.iolib.summary.Summary'>\n",
       "\"\"\"\n",
       "                               GEE Regression Results                              \n",
       "===================================================================================\n",
       "Dep. Variable:                   sentiment   No. Observations:              2837443\n",
       "Model:                                 GEE   No. clusters:                   253259\n",
       "Method:                        Generalized   Min. cluster size:                   1\n",
       "                      Estimating Equations   Max. cluster size:               54499\n",
       "Family:                           Gaussian   Mean cluster size:                11.2\n",
       "Dependence structure:         Exchangeable   Num. iterations:                     9\n",
       "Date:                     Sun, 16 May 2021   Scale:                           0.141\n",
       "Covariance type:                    robust   Time:                         14:28:23\n",
       "===================================================================================\n",
       "                      coef    std err          z      P>|z|      [0.025      0.975]\n",
       "-----------------------------------------------------------------------------------\n",
       "Intercept           0.1436      0.001    193.663      0.000       0.142       0.145\n",
       "fintech[T.True]     0.0367      0.003     11.684      0.000       0.031       0.043\n",
       "replies            -0.0011      0.001     -2.117      0.034      -0.002   -8.14e-05\n",
       "likes               0.0002   5.17e-05      3.474      0.001    7.83e-05       0.000\n",
       "retweets        -8.129e-05   2.86e-05     -2.838      0.005      -0.000   -2.52e-05\n",
       "quotes              0.0009      0.001      1.667      0.096      -0.000       0.002\n",
       "==============================================================================\n",
       "Skew:                         -0.1406   Kurtosis:                      -0.1424\n",
       "Centered skew:                -0.1030   Centered kurtosis:              0.5520\n",
       "==============================================================================\n",
       "\"\"\""
      ]
     },
     "execution_count": 8,
     "metadata": {},
     "output_type": "execute_result"
    }
   ],
   "source": [
    "result1.summary()"
   ]
  },
  {
   "cell_type": "code",
   "execution_count": 9,
   "metadata": {},
   "outputs": [
    {
     "data": {
      "text/plain": [
       "(2854844.718406013, 2854723.2615556386)"
      ]
     },
     "execution_count": 9,
     "metadata": {},
     "output_type": "execute_result"
    }
   ],
   "source": [
    "result1.qic(scale = result1.scale)"
   ]
  },
  {
   "cell_type": "markdown",
   "metadata": {},
   "source": [
    "Model 1 addresses the first hypothesis:\n",
    "\n",
    "**H1: Comparing to other banking related tweets, fintech tweets are higher in positive sentiment.**\n",
    "\n",
    "The results indicate that across all banking related tweets, if the tweet contains the word fintech, then the sentiment of the tweet is higher by 0.0417 points. This finding is statistically significant at the 0.5% level."
   ]
  },
  {
   "cell_type": "code",
   "execution_count": 11,
   "metadata": {},
   "outputs": [],
   "source": [
    "result1.save('Datasets/H1_model.pickle')"
   ]
  },
  {
   "cell_type": "markdown",
   "metadata": {},
   "source": [
    "### 1.1) Testing the QIC score for the model with independence covariance structure"
   ]
  },
  {
   "cell_type": "code",
   "execution_count": 12,
   "metadata": {},
   "outputs": [],
   "source": [
    "# g in model1g stands for Gaussian\n",
    "model1g = sm.GEE.from_formula('sentiment ~ replies + likes + retweets + quotes + fintech',\n",
    "                            groups='username', family=famg, cov_struct=ind, data=df_train)"
   ]
  },
  {
   "cell_type": "code",
   "execution_count": 13,
   "metadata": {
    "hide_input": false
   },
   "outputs": [],
   "source": [
    "result1g = model1g.fit()"
   ]
  },
  {
   "cell_type": "code",
   "execution_count": 14,
   "metadata": {
    "scrolled": false
   },
   "outputs": [
    {
     "data": {
      "text/html": [
       "<table class=\"simpletable\">\n",
       "<caption>GEE Regression Results</caption>\n",
       "<tr>\n",
       "  <th>Dep. Variable:</th>              <td>sentiment</td>      <th>  No. Observations:  </th>  <td>2837443</td>\n",
       "</tr>\n",
       "<tr>\n",
       "  <th>Model:</th>                         <td>GEE</td>         <th>  No. clusters:      </th>  <td>253259</td> \n",
       "</tr>\n",
       "<tr>\n",
       "  <th>Method:</th>                    <td>Generalized</td>     <th>  Min. cluster size: </th>     <td>1</td>   \n",
       "</tr>\n",
       "<tr>\n",
       "  <th></th>                      <td>Estimating Equations</td> <th>  Max. cluster size: </th>   <td>54499</td> \n",
       "</tr>\n",
       "<tr>\n",
       "  <th>Family:</th>                     <td>Gaussian</td>       <th>  Mean cluster size: </th>   <td>11.2</td>  \n",
       "</tr>\n",
       "<tr>\n",
       "  <th>Dependence structure:</th>     <td>Independence</td>     <th>  Num. iterations:   </th>     <td>2</td>   \n",
       "</tr>\n",
       "<tr>\n",
       "  <th>Date:</th>                   <td>Sun, 16 May 2021</td>   <th>  Scale:             </th>   <td>0.141</td> \n",
       "</tr>\n",
       "<tr>\n",
       "  <th>Covariance type: </th>            <td>robust</td>        <th>  Time:              </th> <td>14:35:42</td>\n",
       "</tr>\n",
       "</table>\n",
       "<table class=\"simpletable\">\n",
       "<tr>\n",
       "         <td></td>            <th>coef</th>     <th>std err</th>      <th>z</th>      <th>P>|z|</th>  <th>[0.025</th>    <th>0.975]</th>  \n",
       "</tr>\n",
       "<tr>\n",
       "  <th>Intercept</th>       <td>    0.1183</td> <td>    0.008</td> <td>   15.481</td> <td> 0.000</td> <td>    0.103</td> <td>    0.133</td>\n",
       "</tr>\n",
       "<tr>\n",
       "  <th>fintech[T.True]</th> <td>    0.0637</td> <td>    0.009</td> <td>    6.826</td> <td> 0.000</td> <td>    0.045</td> <td>    0.082</td>\n",
       "</tr>\n",
       "<tr>\n",
       "  <th>replies</th>         <td>   -0.0006</td> <td>    0.000</td> <td>   -1.717</td> <td> 0.086</td> <td>   -0.001</td> <td> 8.09e-05</td>\n",
       "</tr>\n",
       "<tr>\n",
       "  <th>likes</th>           <td>    0.0004</td> <td> 8.86e-05</td> <td>    4.056</td> <td> 0.000</td> <td>    0.000</td> <td>    0.001</td>\n",
       "</tr>\n",
       "<tr>\n",
       "  <th>retweets</th>        <td>   -0.0002</td> <td> 6.13e-05</td> <td>   -2.860</td> <td> 0.004</td> <td>   -0.000</td> <td>-5.52e-05</td>\n",
       "</tr>\n",
       "<tr>\n",
       "  <th>quotes</th>          <td>    0.0008</td> <td>    0.001</td> <td>    1.558</td> <td> 0.119</td> <td>   -0.000</td> <td>    0.002</td>\n",
       "</tr>\n",
       "</table>\n",
       "<table class=\"simpletable\">\n",
       "<tr>\n",
       "  <th>Skew:</th>          <td>     -0.1339</td> <th>  Kurtosis:          </th> <td>     -0.1451</td>\n",
       "</tr>\n",
       "<tr>\n",
       "  <th>Centered skew:</th> <td>     -0.1014</td> <th>  Centered kurtosis: </th> <td>      0.5530</td>\n",
       "</tr>\n",
       "</table>"
      ],
      "text/plain": [
       "<class 'statsmodels.iolib.summary.Summary'>\n",
       "\"\"\"\n",
       "                               GEE Regression Results                              \n",
       "===================================================================================\n",
       "Dep. Variable:                   sentiment   No. Observations:              2837443\n",
       "Model:                                 GEE   No. clusters:                   253259\n",
       "Method:                        Generalized   Min. cluster size:                   1\n",
       "                      Estimating Equations   Max. cluster size:               54499\n",
       "Family:                           Gaussian   Mean cluster size:                11.2\n",
       "Dependence structure:         Independence   Num. iterations:                     2\n",
       "Date:                     Sun, 16 May 2021   Scale:                           0.141\n",
       "Covariance type:                    robust   Time:                         14:35:42\n",
       "===================================================================================\n",
       "                      coef    std err          z      P>|z|      [0.025      0.975]\n",
       "-----------------------------------------------------------------------------------\n",
       "Intercept           0.1183      0.008     15.481      0.000       0.103       0.133\n",
       "fintech[T.True]     0.0637      0.009      6.826      0.000       0.045       0.082\n",
       "replies            -0.0006      0.000     -1.717      0.086      -0.001    8.09e-05\n",
       "likes               0.0004   8.86e-05      4.056      0.000       0.000       0.001\n",
       "retweets           -0.0002   6.13e-05     -2.860      0.004      -0.000   -5.52e-05\n",
       "quotes              0.0008      0.001      1.558      0.119      -0.000       0.002\n",
       "==============================================================================\n",
       "Skew:                         -0.1339   Kurtosis:                      -0.1451\n",
       "Centered skew:                -0.1014   Centered kurtosis:              0.5530\n",
       "==============================================================================\n",
       "\"\"\""
      ]
     },
     "execution_count": 14,
     "metadata": {},
     "output_type": "execute_result"
    }
   ],
   "source": [
    "result1g.summary()"
   ]
  },
  {
   "cell_type": "code",
   "execution_count": 15,
   "metadata": {},
   "outputs": [
    {
     "data": {
      "text/plain": [
       "(2870012.436494745, 2867704.404041637)"
      ]
     },
     "execution_count": 15,
     "metadata": {},
     "output_type": "execute_result"
    }
   ],
   "source": [
    "result1g.qic(scale = result1g.scale)"
   ]
  },
  {
   "cell_type": "markdown",
   "metadata": {},
   "source": [
    "Notice the QIC score is higher than it was for the model with exchangeable dependence structure, therefore the exchangeable dependence structure is preferred"
   ]
  },
  {
   "cell_type": "markdown",
   "metadata": {},
   "source": [
    "## 2) H2: Among banking tweets, the sentiment of Fintech has become more positive over the years."
   ]
  },
  {
   "cell_type": "code",
   "execution_count": 16,
   "metadata": {},
   "outputs": [],
   "source": [
    "# Separate year from the date:\n",
    "df_train['year'] = pd.DatetimeIndex(df_train['tweet_date']).year\n",
    "\n",
    "# Create interaction terms for years:\n",
    "for i in range(2015,2022):\n",
    "    df_train['fintech_'+str(i)] = (df_train.year==i) & (df_train.fintech==True)"
   ]
  },
  {
   "cell_type": "code",
   "execution_count": 17,
   "metadata": {
    "scrolled": true
   },
   "outputs": [],
   "source": [
    "model2 = sm.GEE.from_formula('sentiment ~ replies + likes + retweets + quotes + fintech_2015 + fintech_2016 \\\n",
    "                              + fintech_2017 + fintech_2018 + fintech_2019 + fintech_2020 + fintech_2021',\n",
    "                            groups='username', family=famg, cov_struct=exch, data=df_train)"
   ]
  },
  {
   "cell_type": "code",
   "execution_count": 18,
   "metadata": {},
   "outputs": [],
   "source": [
    "results2 = model2.fit()"
   ]
  },
  {
   "cell_type": "code",
   "execution_count": 19,
   "metadata": {
    "hide_input": false,
    "scrolled": false
   },
   "outputs": [
    {
     "data": {
      "text/html": [
       "<table class=\"simpletable\">\n",
       "<caption>GEE Regression Results</caption>\n",
       "<tr>\n",
       "  <th>Dep. Variable:</th>              <td>sentiment</td>      <th>  No. Observations:  </th>  <td>2837443</td>\n",
       "</tr>\n",
       "<tr>\n",
       "  <th>Model:</th>                         <td>GEE</td>         <th>  No. clusters:      </th>  <td>253259</td> \n",
       "</tr>\n",
       "<tr>\n",
       "  <th>Method:</th>                    <td>Generalized</td>     <th>  Min. cluster size: </th>     <td>1</td>   \n",
       "</tr>\n",
       "<tr>\n",
       "  <th></th>                      <td>Estimating Equations</td> <th>  Max. cluster size: </th>   <td>54499</td> \n",
       "</tr>\n",
       "<tr>\n",
       "  <th>Family:</th>                     <td>Gaussian</td>       <th>  Mean cluster size: </th>   <td>11.2</td>  \n",
       "</tr>\n",
       "<tr>\n",
       "  <th>Dependence structure:</th>     <td>Exchangeable</td>     <th>  Num. iterations:   </th>     <td>7</td>   \n",
       "</tr>\n",
       "<tr>\n",
       "  <th>Date:</th>                   <td>Sun, 16 May 2021</td>   <th>  Scale:             </th>   <td>0.141</td> \n",
       "</tr>\n",
       "<tr>\n",
       "  <th>Covariance type: </th>            <td>robust</td>        <th>  Time:              </th> <td>14:42:05</td>\n",
       "</tr>\n",
       "</table>\n",
       "<table class=\"simpletable\">\n",
       "<tr>\n",
       "            <td></td>              <th>coef</th>     <th>std err</th>      <th>z</th>      <th>P>|z|</th>  <th>[0.025</th>    <th>0.975]</th>  \n",
       "</tr>\n",
       "<tr>\n",
       "  <th>Intercept</th>            <td>    0.1440</td> <td>    0.001</td> <td>  198.827</td> <td> 0.000</td> <td>    0.143</td> <td>    0.145</td>\n",
       "</tr>\n",
       "<tr>\n",
       "  <th>fintech_2015[T.True]</th> <td>   -0.0102</td> <td>    0.006</td> <td>   -1.755</td> <td> 0.079</td> <td>   -0.021</td> <td>    0.001</td>\n",
       "</tr>\n",
       "<tr>\n",
       "  <th>fintech_2016[T.True]</th> <td>   -0.0097</td> <td>    0.004</td> <td>   -2.640</td> <td> 0.008</td> <td>   -0.017</td> <td>   -0.002</td>\n",
       "</tr>\n",
       "<tr>\n",
       "  <th>fintech_2017[T.True]</th> <td>    0.0063</td> <td>    0.003</td> <td>    1.941</td> <td> 0.052</td> <td>-5.99e-05</td> <td>    0.013</td>\n",
       "</tr>\n",
       "<tr>\n",
       "  <th>fintech_2018[T.True]</th> <td>    0.0588</td> <td>    0.005</td> <td>   11.972</td> <td> 0.000</td> <td>    0.049</td> <td>    0.068</td>\n",
       "</tr>\n",
       "<tr>\n",
       "  <th>fintech_2019[T.True]</th> <td>    0.0670</td> <td>    0.005</td> <td>   12.340</td> <td> 0.000</td> <td>    0.056</td> <td>    0.078</td>\n",
       "</tr>\n",
       "<tr>\n",
       "  <th>fintech_2020[T.True]</th> <td>    0.0649</td> <td>    0.005</td> <td>   12.132</td> <td> 0.000</td> <td>    0.054</td> <td>    0.075</td>\n",
       "</tr>\n",
       "<tr>\n",
       "  <th>fintech_2021[T.True]</th> <td>    0.0943</td> <td>    0.009</td> <td>   10.471</td> <td> 0.000</td> <td>    0.077</td> <td>    0.112</td>\n",
       "</tr>\n",
       "<tr>\n",
       "  <th>replies</th>              <td>   -0.0011</td> <td>    0.001</td> <td>   -2.170</td> <td> 0.030</td> <td>   -0.002</td> <td>   -0.000</td>\n",
       "</tr>\n",
       "<tr>\n",
       "  <th>likes</th>                <td>    0.0002</td> <td> 5.04e-05</td> <td>    3.479</td> <td> 0.001</td> <td> 7.65e-05</td> <td>    0.000</td>\n",
       "</tr>\n",
       "<tr>\n",
       "  <th>retweets</th>             <td>-7.401e-05</td> <td> 2.71e-05</td> <td>   -2.734</td> <td> 0.006</td> <td>   -0.000</td> <td> -2.1e-05</td>\n",
       "</tr>\n",
       "<tr>\n",
       "  <th>quotes</th>               <td>    0.0008</td> <td>    0.001</td> <td>    1.561</td> <td> 0.118</td> <td>   -0.000</td> <td>    0.002</td>\n",
       "</tr>\n",
       "</table>\n",
       "<table class=\"simpletable\">\n",
       "<tr>\n",
       "  <th>Skew:</th>          <td>     -0.1457</td> <th>  Kurtosis:          </th> <td>     -0.1359</td>\n",
       "</tr>\n",
       "<tr>\n",
       "  <th>Centered skew:</th> <td>     -0.1051</td> <th>  Centered kurtosis: </th> <td>      0.5548</td>\n",
       "</tr>\n",
       "</table>"
      ],
      "text/plain": [
       "<class 'statsmodels.iolib.summary.Summary'>\n",
       "\"\"\"\n",
       "                               GEE Regression Results                              \n",
       "===================================================================================\n",
       "Dep. Variable:                   sentiment   No. Observations:              2837443\n",
       "Model:                                 GEE   No. clusters:                   253259\n",
       "Method:                        Generalized   Min. cluster size:                   1\n",
       "                      Estimating Equations   Max. cluster size:               54499\n",
       "Family:                           Gaussian   Mean cluster size:                11.2\n",
       "Dependence structure:         Exchangeable   Num. iterations:                     7\n",
       "Date:                     Sun, 16 May 2021   Scale:                           0.141\n",
       "Covariance type:                    robust   Time:                         14:42:05\n",
       "========================================================================================\n",
       "                           coef    std err          z      P>|z|      [0.025      0.975]\n",
       "----------------------------------------------------------------------------------------\n",
       "Intercept                0.1440      0.001    198.827      0.000       0.143       0.145\n",
       "fintech_2015[T.True]    -0.0102      0.006     -1.755      0.079      -0.021       0.001\n",
       "fintech_2016[T.True]    -0.0097      0.004     -2.640      0.008      -0.017      -0.002\n",
       "fintech_2017[T.True]     0.0063      0.003      1.941      0.052   -5.99e-05       0.013\n",
       "fintech_2018[T.True]     0.0588      0.005     11.972      0.000       0.049       0.068\n",
       "fintech_2019[T.True]     0.0670      0.005     12.340      0.000       0.056       0.078\n",
       "fintech_2020[T.True]     0.0649      0.005     12.132      0.000       0.054       0.075\n",
       "fintech_2021[T.True]     0.0943      0.009     10.471      0.000       0.077       0.112\n",
       "replies                 -0.0011      0.001     -2.170      0.030      -0.002      -0.000\n",
       "likes                    0.0002   5.04e-05      3.479      0.001    7.65e-05       0.000\n",
       "retweets             -7.401e-05   2.71e-05     -2.734      0.006      -0.000    -2.1e-05\n",
       "quotes                   0.0008      0.001      1.561      0.118      -0.000       0.002\n",
       "==============================================================================\n",
       "Skew:                         -0.1457   Kurtosis:                      -0.1359\n",
       "Centered skew:                -0.1051   Centered kurtosis:              0.5548\n",
       "==============================================================================\n",
       "\"\"\""
      ]
     },
     "execution_count": 19,
     "metadata": {},
     "output_type": "execute_result"
    }
   ],
   "source": [
    "results2.summary()"
   ]
  },
  {
   "cell_type": "code",
   "execution_count": null,
   "metadata": {},
   "outputs": [],
   "source": [
    "# test1: 2016>2015 = False\n",
    "# test2: 2017>2016 = True\n",
    "# test3: 2018>2017 = True\n",
    "# test4: 2019>2018 = False\n",
    "# test5: 2020>2019 = False\n",
    "# test6: 2021>2020 = True"
   ]
  },
  {
   "cell_type": "code",
   "execution_count": 20,
   "metadata": {},
   "outputs": [],
   "source": [
    "results2.save('Datasets/H2_summary.pickle')"
   ]
  },
  {
   "cell_type": "code",
   "execution_count": null,
   "metadata": {},
   "outputs": [],
   "source": [
    "#results2 = sm.load('Datasets/H2_summary.pickle')"
   ]
  },
  {
   "cell_type": "markdown",
   "metadata": {},
   "source": [
    "* Figure 14 in thesis:"
   ]
  },
  {
   "cell_type": "code",
   "execution_count": 21,
   "metadata": {
    "hide_input": false
   },
   "outputs": [
    {
     "data": {
      "image/png": "[encoded data removed]",
      "text/plain": [
       "<Figure size 864x504 with 1 Axes>"
      ]
     },
     "metadata": {},
     "output_type": "display_data"
    }
   ],
   "source": [
    "plt.rcParams['font.family'] = 'Times New Roman'\n",
    "plt.rcParams.update({'font.size': 14})\n",
    "\n",
    "# x-axis corresponds to years and y-axis corresponds to beta coefficients\n",
    "X = [2015,2016,2017,2018,2019,2020,2021]\n",
    "y1 = list(results2.params)[1:-4]\n",
    "\n",
    "# add 99.5% confidence interval bands, params is again beta coefficients\n",
    "params = results2.params.to_numpy().reshape((len(results2.params),1))\n",
    "# conf_int set at p=0.005 level, locate the coefficients of interest\n",
    "errors = np.subtract(results2.conf_int(alpha=0.005),params).iloc[1:-4,1].to_numpy()\n",
    "\n",
    "fig, ax = plt.subplots(figsize=(12,7))\n",
    "\n",
    "ax.errorbar(X, y1, yerr = errors, fmt = '-o', linestyle='none', color ='k')\n",
    "\n",
    "# Add the confidence interval values to the figure\n",
    "for i in range(len(X)):\n",
    "    upperb = y1[i]+errors[i]\n",
    "    ax.annotate(f'{upperb:.4f}', xy=(X[i]-0.2,upperb+0.0015))\n",
    "    lowerb = y1[i]-errors[i]\n",
    "    ax.annotate(f'{lowerb:.4f}', xy=(X[i]-0.2,lowerb-0.005))\n",
    "\n",
    "ax.set_xlabel('Year')\n",
    "ax.set_ylabel('Fintech sentiment')\n",
    "\n",
    "plt.savefig('Datasets/H2_visual.png')\n",
    "plt.show()"
   ]
  },
  {
   "cell_type": "markdown",
   "metadata": {},
   "source": [
    "### 2.1) Controlling for the tweet length\n",
    "\n",
    "This is done because the tweet length increased in October 2018 and might affect the results. It is for verifying the robustness of the results\n",
    "* Figure 15 in thesis"
   ]
  },
  {
   "cell_type": "code",
   "execution_count": 22,
   "metadata": {},
   "outputs": [],
   "source": [
    "model3 = sm.GEE.from_formula('sentiment ~ replies + likes + retweets + quotes + fintech_2015 + fintech_2016 + tweet_length \\\n",
    "                              + fintech_2017 + fintech_2018 + fintech_2019 + fintech_2020 + fintech_2021',\n",
    "                            groups='username', family=famg, cov_struct=exch, data=df_train)"
   ]
  },
  {
   "cell_type": "code",
   "execution_count": 23,
   "metadata": {},
   "outputs": [],
   "source": [
    "results3 = model3.fit()"
   ]
  },
  {
   "cell_type": "code",
   "execution_count": 24,
   "metadata": {
    "hide_input": false,
    "scrolled": false
   },
   "outputs": [
    {
     "data": {
      "text/html": [
       "<table class=\"simpletable\">\n",
       "<caption>GEE Regression Results</caption>\n",
       "<tr>\n",
       "  <th>Dep. Variable:</th>              <td>sentiment</td>      <th>  No. Observations:  </th>  <td>2837443</td>\n",
       "</tr>\n",
       "<tr>\n",
       "  <th>Model:</th>                         <td>GEE</td>         <th>  No. clusters:      </th>  <td>253259</td> \n",
       "</tr>\n",
       "<tr>\n",
       "  <th>Method:</th>                    <td>Generalized</td>     <th>  Min. cluster size: </th>     <td>1</td>   \n",
       "</tr>\n",
       "<tr>\n",
       "  <th></th>                      <td>Estimating Equations</td> <th>  Max. cluster size: </th>   <td>54499</td> \n",
       "</tr>\n",
       "<tr>\n",
       "  <th>Family:</th>                     <td>Gaussian</td>       <th>  Mean cluster size: </th>   <td>11.2</td>  \n",
       "</tr>\n",
       "<tr>\n",
       "  <th>Dependence structure:</th>     <td>Exchangeable</td>     <th>  Num. iterations:   </th>     <td>8</td>   \n",
       "</tr>\n",
       "<tr>\n",
       "  <th>Date:</th>                   <td>Sun, 16 May 2021</td>   <th>  Scale:             </th>   <td>0.138</td> \n",
       "</tr>\n",
       "<tr>\n",
       "  <th>Covariance type: </th>            <td>robust</td>        <th>  Time:              </th> <td>14:44:35</td>\n",
       "</tr>\n",
       "</table>\n",
       "<table class=\"simpletable\">\n",
       "<tr>\n",
       "            <td></td>              <th>coef</th>     <th>std err</th>      <th>z</th>      <th>P>|z|</th>  <th>[0.025</th>    <th>0.975]</th>  \n",
       "</tr>\n",
       "<tr>\n",
       "  <th>Intercept</th>            <td>    0.0289</td> <td>    0.004</td> <td>    7.998</td> <td> 0.000</td> <td>    0.022</td> <td>    0.036</td>\n",
       "</tr>\n",
       "<tr>\n",
       "  <th>fintech_2015[T.True]</th> <td>    0.0061</td> <td>    0.005</td> <td>    1.131</td> <td> 0.258</td> <td>   -0.004</td> <td>    0.017</td>\n",
       "</tr>\n",
       "<tr>\n",
       "  <th>fintech_2016[T.True]</th> <td>    0.0072</td> <td>    0.004</td> <td>    1.937</td> <td> 0.053</td> <td> -8.6e-05</td> <td>    0.014</td>\n",
       "</tr>\n",
       "<tr>\n",
       "  <th>fintech_2017[T.True]</th> <td>    0.0188</td> <td>    0.003</td> <td>    5.953</td> <td> 0.000</td> <td>    0.013</td> <td>    0.025</td>\n",
       "</tr>\n",
       "<tr>\n",
       "  <th>fintech_2018[T.True]</th> <td>    0.0368</td> <td>    0.005</td> <td>    8.019</td> <td> 0.000</td> <td>    0.028</td> <td>    0.046</td>\n",
       "</tr>\n",
       "<tr>\n",
       "  <th>fintech_2019[T.True]</th> <td>    0.0448</td> <td>    0.006</td> <td>    8.010</td> <td> 0.000</td> <td>    0.034</td> <td>    0.056</td>\n",
       "</tr>\n",
       "<tr>\n",
       "  <th>fintech_2020[T.True]</th> <td>    0.0406</td> <td>    0.006</td> <td>    6.268</td> <td> 0.000</td> <td>    0.028</td> <td>    0.053</td>\n",
       "</tr>\n",
       "<tr>\n",
       "  <th>fintech_2021[T.True]</th> <td>    0.0633</td> <td>    0.007</td> <td>    8.849</td> <td> 0.000</td> <td>    0.049</td> <td>    0.077</td>\n",
       "</tr>\n",
       "<tr>\n",
       "  <th>replies</th>              <td>   -0.0014</td> <td>    0.001</td> <td>   -2.734</td> <td> 0.006</td> <td>   -0.002</td> <td>   -0.000</td>\n",
       "</tr>\n",
       "<tr>\n",
       "  <th>likes</th>                <td>    0.0001</td> <td> 3.67e-05</td> <td>    3.694</td> <td> 0.000</td> <td> 6.36e-05</td> <td>    0.000</td>\n",
       "</tr>\n",
       "<tr>\n",
       "  <th>retweets</th>             <td>-7.821e-05</td> <td> 2.92e-05</td> <td>   -2.677</td> <td> 0.007</td> <td>   -0.000</td> <td>-2.09e-05</td>\n",
       "</tr>\n",
       "<tr>\n",
       "  <th>quotes</th>               <td>    0.0006</td> <td>    0.001</td> <td>    1.062</td> <td> 0.288</td> <td>   -0.000</td> <td>    0.002</td>\n",
       "</tr>\n",
       "<tr>\n",
       "  <th>tweet_length</th>         <td>    0.0010</td> <td> 3.08e-05</td> <td>   31.871</td> <td> 0.000</td> <td>    0.001</td> <td>    0.001</td>\n",
       "</tr>\n",
       "</table>\n",
       "<table class=\"simpletable\">\n",
       "<tr>\n",
       "  <th>Skew:</th>          <td>     -0.2853</td> <th>  Kurtosis:          </th> <td>      0.0333</td>\n",
       "</tr>\n",
       "<tr>\n",
       "  <th>Centered skew:</th> <td>     -0.1628</td> <th>  Centered kurtosis: </th> <td>      0.6392</td>\n",
       "</tr>\n",
       "</table>"
      ],
      "text/plain": [
       "<class 'statsmodels.iolib.summary.Summary'>\n",
       "\"\"\"\n",
       "                               GEE Regression Results                              \n",
       "===================================================================================\n",
       "Dep. Variable:                   sentiment   No. Observations:              2837443\n",
       "Model:                                 GEE   No. clusters:                   253259\n",
       "Method:                        Generalized   Min. cluster size:                   1\n",
       "                      Estimating Equations   Max. cluster size:               54499\n",
       "Family:                           Gaussian   Mean cluster size:                11.2\n",
       "Dependence structure:         Exchangeable   Num. iterations:                     8\n",
       "Date:                     Sun, 16 May 2021   Scale:                           0.138\n",
       "Covariance type:                    robust   Time:                         14:44:35\n",
       "========================================================================================\n",
       "                           coef    std err          z      P>|z|      [0.025      0.975]\n",
       "----------------------------------------------------------------------------------------\n",
       "Intercept                0.0289      0.004      7.998      0.000       0.022       0.036\n",
       "fintech_2015[T.True]     0.0061      0.005      1.131      0.258      -0.004       0.017\n",
       "fintech_2016[T.True]     0.0072      0.004      1.937      0.053    -8.6e-05       0.014\n",
       "fintech_2017[T.True]     0.0188      0.003      5.953      0.000       0.013       0.025\n",
       "fintech_2018[T.True]     0.0368      0.005      8.019      0.000       0.028       0.046\n",
       "fintech_2019[T.True]     0.0448      0.006      8.010      0.000       0.034       0.056\n",
       "fintech_2020[T.True]     0.0406      0.006      6.268      0.000       0.028       0.053\n",
       "fintech_2021[T.True]     0.0633      0.007      8.849      0.000       0.049       0.077\n",
       "replies                 -0.0014      0.001     -2.734      0.006      -0.002      -0.000\n",
       "likes                    0.0001   3.67e-05      3.694      0.000    6.36e-05       0.000\n",
       "retweets             -7.821e-05   2.92e-05     -2.677      0.007      -0.000   -2.09e-05\n",
       "quotes                   0.0006      0.001      1.062      0.288      -0.000       0.002\n",
       "tweet_length             0.0010   3.08e-05     31.871      0.000       0.001       0.001\n",
       "==============================================================================\n",
       "Skew:                         -0.2853   Kurtosis:                       0.0333\n",
       "Centered skew:                -0.1628   Centered kurtosis:              0.6392\n",
       "==============================================================================\n",
       "\"\"\""
      ]
     },
     "execution_count": 24,
     "metadata": {},
     "output_type": "execute_result"
    }
   ],
   "source": [
    "results3.summary()"
   ]
  },
  {
   "cell_type": "code",
   "execution_count": 25,
   "metadata": {},
   "outputs": [],
   "source": [
    "results3.save('Datasets/H2_summary_robust.pickle')"
   ]
  },
  {
   "cell_type": "code",
   "execution_count": 26,
   "metadata": {},
   "outputs": [
    {
     "data": {
      "image/png": "[encoded data removed]",
      "text/plain": [
       "<Figure size 864x504 with 1 Axes>"
      ]
     },
     "metadata": {},
     "output_type": "display_data"
    }
   ],
   "source": [
    "plt.rcParams['font.family'] = 'Times New Roman'\n",
    "plt.rcParams.update({'font.size': 14})\n",
    "\n",
    "# x-axis corresponds to years and y-axis corresponds to beta coefficients\n",
    "X = [2015,2016,2017,2018,2019,2020,2021]\n",
    "y1 = list(results3.params)[1:-5]\n",
    "\n",
    "# add 99.5% confidence interval bands, params is again beta coefficients\n",
    "params = results3.params.to_numpy().reshape((len(results3.params),1))\n",
    "# conf_int set at p=0.005 level, locate the coefficients of interest\n",
    "errors = np.subtract(results3.conf_int(alpha=0.005),params).iloc[1:-5,1].to_numpy()\n",
    "\n",
    "fig, ax = plt.subplots(figsize=(12,7))\n",
    "\n",
    "ax.errorbar(X, y1, yerr = errors, fmt = '-o', linestyle='none', color ='k')\n",
    "\n",
    "for i in range(len(X)):\n",
    "    upperb = y1[i]+errors[i]\n",
    "    ax.annotate(f'{upperb:.4f}', xy=(X[i]-0.2,upperb+0.001))\n",
    "    lowerb = y1[i]-errors[i]\n",
    "    ax.annotate(f'{lowerb:.4f}', xy=(X[i]-0.2,lowerb-0.003))\n",
    "\n",
    "ax.set_xlabel('Year')\n",
    "ax.set_ylabel('Fintech sentiment')\n",
    "\n",
    "plt.savefig('Datasets/H2_visual_robust.png')\n",
    "plt.show()"
   ]
  }
 ],
 "metadata": {
  "hide_input": false,
  "kernelspec": {
   "display_name": "thesis",
   "language": "python",
   "name": "thesis"
  },
  "language_info": {
   "codemirror_mode": {
    "name": "ipython",
    "version": 3
   },
   "file_extension": ".py",
   "mimetype": "text/x-python",
   "name": "python",
   "nbconvert_exporter": "python",
   "pygments_lexer": "ipython3",
   "version": "3.8.5"
  }
 },
 "nbformat": 4,
 "nbformat_minor": 4
}
